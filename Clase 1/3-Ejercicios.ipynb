{
 "cells": [
  {
   "cell_type": "markdown",
   "id": "characteristic-elevation",
   "metadata": {},
   "source": [
    "1) Escriba un programa que calcule 15^15 y muestre el resultado en la consola. Su programa\n",
    "debe tener una sola línea de código."
   ]
  },
  {
   "cell_type": "code",
   "execution_count": null,
   "id": "congressional-basis",
   "metadata": {},
   "outputs": [],
   "source": []
  },
  {
   "cell_type": "markdown",
   "id": "communist-short",
   "metadata": {},
   "source": [
    "2) Escriba un programa que pida un número al usuario y muestre True si este es par o False si es impar."
   ]
  },
  {
   "cell_type": "code",
   "execution_count": null,
   "id": "numerical-quest",
   "metadata": {},
   "outputs": [],
   "source": []
  },
  {
   "cell_type": "markdown",
   "id": "major-bones",
   "metadata": {},
   "source": [
    "3) Escriba un programa que pida al usuario los valores de radio y altura de un cono y muestre en consola el volumen del cono. Recuerde que el volumen de un cono se puede calcular como V = (π · r^2 · h) / 3, donde r es el radio de la base y h es la altura."
   ]
  },
  {
   "cell_type": "code",
   "execution_count": null,
   "id": "massive-cotton",
   "metadata": {},
   "outputs": [],
   "source": []
  },
  {
   "cell_type": "markdown",
   "id": "native-routine",
   "metadata": {},
   "source": [
    "4) Escriba un programa donde se pida un numero al usuario, luego si esta es mayor a 15 imprima \"mayor\", si es menor a 10 que imprima \"menor\", y que imprima \"azul\" en cualquier otro caso."
   ]
  },
  {
   "cell_type": "code",
   "execution_count": null,
   "id": "fifty-shell",
   "metadata": {},
   "outputs": [],
   "source": []
  },
  {
   "cell_type": "markdown",
   "id": "entertaining-medicine",
   "metadata": {},
   "source": [
    "5) Escriba un programa que pida al usuario su edad y le diga si puede o no comprar bebidas alcohólicas."
   ]
  },
  {
   "cell_type": "code",
   "execution_count": null,
   "id": "finished-quest",
   "metadata": {},
   "outputs": [],
   "source": []
  },
  {
   "cell_type": "markdown",
   "id": "patent-straight",
   "metadata": {},
   "source": [
    "6) Escriba un programa que pida un número al usuario y muestre un mensaje indicando si es divisible por 7 o no."
   ]
  },
  {
   "cell_type": "code",
   "execution_count": null,
   "id": "material-drunk",
   "metadata": {},
   "outputs": [],
   "source": []
  },
  {
   "cell_type": "markdown",
   "id": "competent-surfing",
   "metadata": {},
   "source": [
    "**A continuación pondre algunos ejercicios más desafiantes que si quieres puedes hacer de tarea:**"
   ]
  },
  {
   "cell_type": "markdown",
   "id": "pharmaceutical-ceiling",
   "metadata": {},
   "source": [
    "7) Escriba un programa que pida al usuario todas sus notas en un curso de la universidad a su elección y calcule su promedio final. Utilice el programa del curso para determinar el cálculo de la nota."
   ]
  },
  {
   "cell_type": "code",
   "execution_count": null,
   "id": "desirable-evening",
   "metadata": {},
   "outputs": [],
   "source": []
  },
  {
   "cell_type": "markdown",
   "id": "charitable-influence",
   "metadata": {},
   "source": [
    "8) Escriba un programa que pida un número entre 1 y 7 al usuario y escriba en la consola \"Hola\" tantas veces como indique el número. Si el usuario escribe un número fuera del rango indicado, escriba un mensaje al usuario diciéndole que se equivocó."
   ]
  },
  {
   "cell_type": "code",
   "execution_count": null,
   "id": "proved-occasions",
   "metadata": {},
   "outputs": [],
   "source": []
  }
 ],
 "metadata": {
  "kernelspec": {
   "display_name": "Python 3",
   "language": "python",
   "name": "python3"
  },
  "language_info": {
   "codemirror_mode": {
    "name": "ipython",
    "version": 3
   },
   "file_extension": ".py",
   "mimetype": "text/x-python",
   "name": "python",
   "nbconvert_exporter": "python",
   "pygments_lexer": "ipython3",
   "version": "3.6.8"
  }
 },
 "nbformat": 4,
 "nbformat_minor": 5
}
