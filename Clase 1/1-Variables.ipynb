{
 "cells": [
  {
   "cell_type": "markdown",
   "id": "objective-direction",
   "metadata": {},
   "source": [
    "## Algoritmos\n",
    "Son una secuencia de pasos que permite llegar a una respuesta --> Como podria ser una receta, sacar el promedio de notas, etc.\n",
    "La programación usa algoritmos de diferente tipo para dar con respuestas y simplificar tareas a través del codigo."
   ]
  },
  {
   "cell_type": "markdown",
   "id": "flexible-course",
   "metadata": {},
   "source": [
    "## Variables\n",
    "Se utilizan para guardar información y manipularla. Existen muchos tipos de variables, pero en caso de python es facil trabajarlas debido a que tiene una computadora procesando los datos y entiende por si solo el tipo.\n",
    "\n",
    "Dentro de los tipos existen: byte, short, int, long, float, double, char, boolean, list, tuple, array, etc.\n",
    "\n",
    "Variables en python:\n",
    "* Uno debe definirlas con un nombre.\n",
    "* El valor que le asignas define el tipo de variable que es.\n",
    "* Uno puede cambiar o imprimir el valor de la variable."
   ]
  },
  {
   "cell_type": "code",
   "execution_count": 5,
   "id": "expressed-squad",
   "metadata": {},
   "outputs": [
    {
     "name": "stdout",
     "output_type": "stream",
     "text": [
      "juan\n",
      "lucho\n",
      "lucholucifer\n"
     ]
    }
   ],
   "source": [
    "perro = \"juan\"\n",
    "print(perro)\n",
    "\n",
    "perro = \"lucho\"\n",
    "print(perro)\n",
    "\n",
    "gato = \"lucifer\"\n",
    "print(perro + gato)"
   ]
  },
  {
   "cell_type": "markdown",
   "id": "equal-conservation",
   "metadata": {},
   "source": [
    "Si uno quiere operar sobre 2 variables, es importante que estas sean del mismo tipo. Ya que de no serlo esto retornara un error."
   ]
  },
  {
   "cell_type": "code",
   "execution_count": 6,
   "id": "spread-fellow",
   "metadata": {},
   "outputs": [
    {
     "ename": "TypeError",
     "evalue": "must be str, not int",
     "output_type": "error",
     "traceback": [
      "\u001b[1;31m---------------------------------------------------------------------------\u001b[0m",
      "\u001b[1;31mTypeError\u001b[0m                                 Traceback (most recent call last)",
      "\u001b[1;32m<ipython-input-6-678cf0e67223>\u001b[0m in \u001b[0;36m<module>\u001b[1;34m\u001b[0m\n\u001b[0;32m      1\u001b[0m \u001b[0mnumero\u001b[0m \u001b[1;33m=\u001b[0m \u001b[1;36m3\u001b[0m\u001b[1;33m\u001b[0m\u001b[1;33m\u001b[0m\u001b[0m\n\u001b[1;32m----> 2\u001b[1;33m \u001b[0mprint\u001b[0m\u001b[1;33m(\u001b[0m\u001b[0mperro\u001b[0m \u001b[1;33m+\u001b[0m \u001b[0mnumero\u001b[0m\u001b[1;33m)\u001b[0m\u001b[1;33m\u001b[0m\u001b[1;33m\u001b[0m\u001b[0m\n\u001b[0m",
      "\u001b[1;31mTypeError\u001b[0m: must be str, not int"
     ]
    }
   ],
   "source": [
    "numero = 3\n",
    "print(perro + numero)"
   ]
  },
  {
   "cell_type": "markdown",
   "id": "continent-partition",
   "metadata": {},
   "source": [
    "Esto aplica para muchos tipos de variables, y si, existen algunas excepciones. Pero por lo general, siempre se debe tener cuidado porque es un error muy común.\n",
    "\n",
    "Notemos los tipos de las siguientes variables:"
   ]
  },
  {
   "cell_type": "code",
   "execution_count": 20,
   "id": "residential-adult",
   "metadata": {},
   "outputs": [
    {
     "name": "stdout",
     "output_type": "stream",
     "text": [
      "<class 'int'>\n",
      "<class 'float'>\n",
      "<class 'str'>\n",
      "<class 'bool'>\n",
      "<class 'list'>\n",
      "<class 'dict'>\n",
      "<class 'tuple'>\n"
     ]
    }
   ],
   "source": [
    "a = 1\n",
    "b = 1.5\n",
    "c = \"jose\"\n",
    "d = True\n",
    "e = []\n",
    "f = {}\n",
    "g = ()\n",
    "\n",
    "\n",
    "print(type(a))\n",
    "print(type(b))\n",
    "print(type(c))\n",
    "print(type(d))\n",
    "print(type(e))\n",
    "print(type(f))\n",
    "print(type(g))"
   ]
  }
 ],
 "metadata": {
  "kernelspec": {
   "display_name": "Python 3",
   "language": "python",
   "name": "python3"
  },
  "language_info": {
   "codemirror_mode": {
    "name": "ipython",
    "version": 3
   },
   "file_extension": ".py",
   "mimetype": "text/x-python",
   "name": "python",
   "nbconvert_exporter": "python",
   "pygments_lexer": "ipython3",
   "version": "3.6.8"
  }
 },
 "nbformat": 4,
 "nbformat_minor": 5
}
