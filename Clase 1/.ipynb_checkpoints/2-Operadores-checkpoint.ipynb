{
 "cells": [
  {
   "cell_type": "markdown",
   "id": "expected-greek",
   "metadata": {},
   "source": [
    "## Manipulación de variables\n",
    "No nos sirve almacenar las variables si es que no las manipulamos.\n",
    "Para esto hay que aprender para que sirven ciertas **palabras reservadas**:\n",
    "\n",
    "- if\n",
    "- elif\n",
    "- else\n",
    "- and\n",
    "- or\n",
    "- break\n",
    "- def\n",
    "- for\n",
    "- while\n",
    "- in\n",
    "- not"
   ]
  },
  {
   "cell_type": "markdown",
   "id": "amino-yugoslavia",
   "metadata": {},
   "source": [
    "A medida que iremos avanzando vamos a ir viendo cada uno de estos y se iran repitiendo en muchos casos.\n",
    "Podemos tomar un par de ejemplos."
   ]
  },
  {
   "cell_type": "code",
   "execution_count": 4,
   "id": "fresh-departure",
   "metadata": {},
   "outputs": [],
   "source": [
    "### Si tenemos 2 int (a y b), muestra el valor de cual es mayor. ###\n",
    "\n",
    "### Si dos valores (a y b) son mayores a 3, printear \"Bien\". ###\n",
    "\n",
    "### Si alguno de los valores (a o b) son mayores a 3, printear \"Sopa\". ###\n"
   ]
  },
  {
   "cell_type": "markdown",
   "id": "given-share",
   "metadata": {},
   "source": [
    "Como podemos notar, las palabras reservadas nos ayudan a formular cuales son las necesidades que tenemos, sin embargo necesitamos de operadores para poder representar requerimientos matematicos. \n",
    "\n",
    "(Ej: \"Si un numero {a} elevado a otro numero {b} es mayor a 6 retornar \"azul\"\")\n"
   ]
  },
  {
   "cell_type": "markdown",
   "id": "focused-tuesday",
   "metadata": {},
   "source": [
    "## Operadores\n",
    "Los operadores nos permiten trabajar con números, estos son:\n",
    "- Cambio de signo: **-**\n",
    "- Suma: **+**\n",
    "- Resta: **-**\n",
    "- Multiplicación: _*_\n",
    "- Exponente: _**_\n",
    "- División: /\n",
    "- División entera: //\n",
    "- Modulo: %\n",
    "- Mayor o Menor: **>, <**\n",
    "- Mayor o igual: **>=**\n",
    "- Igual: **==**\n",
    "- Distinto: **!=**"
   ]
  },
  {
   "cell_type": "code",
   "execution_count": 7,
   "id": "concrete-arcade",
   "metadata": {},
   "outputs": [],
   "source": [
    "### Guardar en una variable el valor de 3 elevado a 4 ###\n",
    "\n",
    "### Si la división de dos numeros (a entre b) es mayor a 4, printear su suma ###\n",
    "\n",
    "### Si dos numeros son iguales (a y b) o su suma es menor o igual a 6, printear dicha suma ###\n"
   ]
  },
  {
   "cell_type": "markdown",
   "id": "introductory-folks",
   "metadata": {},
   "source": [
    "Como hemos visto, nosotros podemos cambiarle el valor a una variable con bastante facilidad.\n",
    "Para esto podemos utilizar la combinación de un operador junto a el operador \"=\". "
   ]
  },
  {
   "cell_type": "code",
   "execution_count": 10,
   "id": "british-asbestos",
   "metadata": {},
   "outputs": [
    {
     "name": "stdout",
     "output_type": "stream",
     "text": [
      "18\n"
     ]
    }
   ],
   "source": [
    "p = 2\n",
    "\n",
    "# Si queremos sumarle 2 a p podemos hacerlo de distintas formas\n",
    "p = p + 2                           # p = 4\n",
    "\n",
    "p += 2                              # p = 6\n",
    "\n",
    "# Lo mismo aplica para cada uno de los operadores:\n",
    "\n",
    "p *= 3                             # 6 * 3 = 18\n",
    "\n",
    "print(p)"
   ]
  },
  {
   "cell_type": "markdown",
   "id": "according-letter",
   "metadata": {},
   "source": [
    "## Funciones internas\n",
    "Al igual que con los operadores, existen funciones internas del sistema que nos permiten hacer hacer cambios o manipular nuestra data. Algunos de estos son:\n",
    "\n",
    "- type() --> Retorna el tipo de variable\n",
    "- str() --> Convierte lo que este dentro, a type == string\n",
    "- float() --> Convierte lo que este dentro, a type == floar\n",
    "- int() --> Convierte lo que este dentro, a type == int\n",
    "- print() --> Muestra en la consola, lo que este dentro\n",
    "- input() --> Corresponde a una función que permite obtener un valor a partir de la consola"
   ]
  },
  {
   "cell_type": "code",
   "execution_count": null,
   "id": "earlier-retention",
   "metadata": {},
   "outputs": [],
   "source": [
    "b = input()\n",
    "\n",
    "print(\"El valor ingresado es \" + b)"
   ]
  },
  {
   "cell_type": "code",
   "execution_count": 16,
   "id": "sacred-monster",
   "metadata": {},
   "outputs": [
    {
     "name": "stdout",
     "output_type": "stream",
     "text": [
      "43\n"
     ]
    }
   ],
   "source": [
    "### Si tenemos una variable como string, podemos pasarla a valor numerico y luego operar con ints ###\n",
    "\n",
    "j = \"23\"\n",
    "k = 20\n",
    "\n",
    "m = int(j)\n",
    "\n",
    "print(m + k)"
   ]
  },
  {
   "cell_type": "markdown",
   "id": "systematic-provision",
   "metadata": {},
   "source": [
    "Lo mismo se puede aplicar en el otro sentido."
   ]
  }
 ],
 "metadata": {
  "kernelspec": {
   "display_name": "Python 3",
   "language": "python",
   "name": "python3"
  },
  "language_info": {
   "codemirror_mode": {
    "name": "ipython",
    "version": 3
   },
   "file_extension": ".py",
   "mimetype": "text/x-python",
   "name": "python",
   "nbconvert_exporter": "python",
   "pygments_lexer": "ipython3",
   "version": "3.6.8"
  }
 },
 "nbformat": 4,
 "nbformat_minor": 5
}
